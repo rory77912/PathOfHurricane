{
 "cells": [
  {
   "cell_type": "code",
   "execution_count": 3,
   "metadata": {},
   "outputs": [],
   "source": [
    "# import necessary packages\n",
    "import numpy as np\n",
    "import pandas as pd\n",
    "import geopandas as gpd\n",
    "import folium\n",
    "import json\n",
    "import matplotlib.pyplot as plt\n",
    "import fiona\n",
    "from shapely.geometry import Point"
   ]
  },
  {
   "cell_type": "markdown",
   "metadata": {},
   "source": [
    "### visualize the path of Hurricane Florence"
   ]
  },
  {
   "cell_type": "code",
   "execution_count": 4,
   "metadata": {},
   "outputs": [
    {
     "data": {
      "text/html": [
       "<div>\n",
       "<style scoped>\n",
       "    .dataframe tbody tr th:only-of-type {\n",
       "        vertical-align: middle;\n",
       "    }\n",
       "\n",
       "    .dataframe tbody tr th {\n",
       "        vertical-align: top;\n",
       "    }\n",
       "\n",
       "    .dataframe thead th {\n",
       "        text-align: right;\n",
       "    }\n",
       "</style>\n",
       "<table border=\"1\" class=\"dataframe\">\n",
       "  <thead>\n",
       "    <tr style=\"text-align: right;\">\n",
       "      <th></th>\n",
       "      <th>GEO_ID</th>\n",
       "      <th>STATE</th>\n",
       "      <th>NAME</th>\n",
       "      <th>LSAD</th>\n",
       "      <th>CENSUSAREA</th>\n",
       "      <th>geometry</th>\n",
       "    </tr>\n",
       "  </thead>\n",
       "  <tbody>\n",
       "    <tr>\n",
       "      <td>0</td>\n",
       "      <td>0400000US23</td>\n",
       "      <td>23</td>\n",
       "      <td>Maine</td>\n",
       "      <td></td>\n",
       "      <td>30842.923</td>\n",
       "      <td>MULTIPOLYGON (((-67.61976 44.51975, -67.61541 ...</td>\n",
       "    </tr>\n",
       "    <tr>\n",
       "      <td>1</td>\n",
       "      <td>0400000US25</td>\n",
       "      <td>25</td>\n",
       "      <td>Massachusetts</td>\n",
       "      <td></td>\n",
       "      <td>7800.058</td>\n",
       "      <td>MULTIPOLYGON (((-70.83204 41.60650, -70.82373 ...</td>\n",
       "    </tr>\n",
       "    <tr>\n",
       "      <td>2</td>\n",
       "      <td>0400000US26</td>\n",
       "      <td>26</td>\n",
       "      <td>Michigan</td>\n",
       "      <td></td>\n",
       "      <td>56538.901</td>\n",
       "      <td>MULTIPOLYGON (((-88.68443 48.11579, -88.67563 ...</td>\n",
       "    </tr>\n",
       "    <tr>\n",
       "      <td>3</td>\n",
       "      <td>0400000US30</td>\n",
       "      <td>30</td>\n",
       "      <td>Montana</td>\n",
       "      <td></td>\n",
       "      <td>145545.801</td>\n",
       "      <td>POLYGON ((-104.05770 44.99743, -104.25015 44.9...</td>\n",
       "    </tr>\n",
       "    <tr>\n",
       "      <td>4</td>\n",
       "      <td>0400000US32</td>\n",
       "      <td>32</td>\n",
       "      <td>Nevada</td>\n",
       "      <td></td>\n",
       "      <td>109781.180</td>\n",
       "      <td>POLYGON ((-114.05060 37.00040, -114.04999 36.9...</td>\n",
       "    </tr>\n",
       "  </tbody>\n",
       "</table>\n",
       "</div>"
      ],
      "text/plain": [
       "        GEO_ID STATE           NAME LSAD  CENSUSAREA  \\\n",
       "0  0400000US23    23          Maine        30842.923   \n",
       "1  0400000US25    25  Massachusetts         7800.058   \n",
       "2  0400000US26    26       Michigan        56538.901   \n",
       "3  0400000US30    30        Montana       145545.801   \n",
       "4  0400000US32    32         Nevada       109781.180   \n",
       "\n",
       "                                            geometry  \n",
       "0  MULTIPOLYGON (((-67.61976 44.51975, -67.61541 ...  \n",
       "1  MULTIPOLYGON (((-70.83204 41.60650, -70.82373 ...  \n",
       "2  MULTIPOLYGON (((-88.68443 48.11579, -88.67563 ...  \n",
       "3  POLYGON ((-104.05770 44.99743, -104.25015 44.9...  \n",
       "4  POLYGON ((-114.05060 37.00040, -114.04999 36.9...  "
      ]
     },
     "execution_count": 4,
     "metadata": {},
     "output_type": "execute_result"
    }
   ],
   "source": [
    "## get the map of the USA\n",
    "\n",
    "usa = gpd.read_file(\"gz_2010_us_040_00_500k.json\")\n",
    "usa.shape\n",
    "usa.head()"
   ]
  },
  {
   "cell_type": "code",
   "execution_count": 6,
   "metadata": {},
   "outputs": [
    {
     "name": "stdout",
     "output_type": "stream",
     "text": [
      "<class 'geopandas.geodataframe.GeoDataFrame'>\n",
      "<class 'geopandas.geoseries.GeoSeries'>\n",
      "<class 'pandas.core.series.Series'>\n"
     ]
    }
   ],
   "source": [
    "print(type(usa))\n",
    "print(type(usa.geometry))\n",
    "print(type(usa.GEO_ID))"
   ]
  },
  {
   "cell_type": "code",
   "execution_count": 8,
   "metadata": {},
   "outputs": [
    {
     "data": {
      "text/plain": [
       "<matplotlib.axes._subplots.AxesSubplot at 0x122957f10>"
      ]
     },
     "execution_count": 8,
     "metadata": {},
     "output_type": "execute_result"
    },
    {
     "data": {
      "image/png": "[encoded data removed]",
      "text/plain": [
       "<Figure size 432x288 with 1 Axes>"
      ]
     },
     "metadata": {
      "needs_background": "light"
     },
     "output_type": "display_data"
    }
   ],
   "source": [
    "### plot the map of the USA\n",
    "usa.plot()"
   ]
  },
  {
   "cell_type": "code",
   "execution_count": 9,
   "metadata": {},
   "outputs": [
    {
     "data": {
      "text/plain": [
       "<matplotlib.axes._subplots.AxesSubplot at 0x1229bcf90>"
      ]
     },
     "execution_count": 9,
     "metadata": {},
     "output_type": "execute_result"
    },
    {
     "data": {
      "image/png": "[encoded data removed]",
      "text/plain": [
       "<Figure size 648x504 with 1 Axes>"
      ]
     },
     "metadata": {
      "needs_background": "light"
     },
     "output_type": "display_data"
    }
   ],
   "source": [
    "# Execlude Alaska and Hawaii\n",
    "\n",
    "usa = usa[usa['NAME'].isin(['Alaska', 'Hawaii']) == False]\n",
    "usa.plot(figsize = (9, 7))"
   ]
  },
  {
   "cell_type": "code",
   "execution_count": 10,
   "metadata": {},
   "outputs": [
    {
     "data": {
      "text/plain": [
       "<matplotlib.axes._subplots.AxesSubplot at 0x123348950>"
      ]
     },
     "execution_count": 10,
     "metadata": {},
     "output_type": "execute_result"
    },
    {
     "data": {
      "image/png": "[encoded data removed]",
      "text/plain": [
       "<Figure size 432x288 with 1 Axes>"
      ]
     },
     "metadata": {
      "needs_background": "light"
     },
     "output_type": "display_data"
    }
   ],
   "source": [
    "## Where is California\n",
    "\n",
    "cali = usa.loc[usa.NAME == \"California\",:]\n",
    "type(cali)\n",
    "cali.plot()"
   ]
  },
  {
   "cell_type": "code",
   "execution_count": 11,
   "metadata": {},
   "outputs": [
    {
     "data": {
      "text/html": [
       "<div>\n",
       "<style scoped>\n",
       "    .dataframe tbody tr th:only-of-type {\n",
       "        vertical-align: middle;\n",
       "    }\n",
       "\n",
       "    .dataframe tbody tr th {\n",
       "        vertical-align: top;\n",
       "    }\n",
       "\n",
       "    .dataframe thead th {\n",
       "        text-align: right;\n",
       "    }\n",
       "</style>\n",
       "<table border=\"1\" class=\"dataframe\">\n",
       "  <thead>\n",
       "    <tr style=\"text-align: right;\">\n",
       "      <th></th>\n",
       "      <th>AdvisoryNumber</th>\n",
       "      <th>Date</th>\n",
       "      <th>Lat</th>\n",
       "      <th>Long</th>\n",
       "      <th>Wind</th>\n",
       "      <th>Pres</th>\n",
       "      <th>Movement</th>\n",
       "      <th>Type</th>\n",
       "      <th>Name</th>\n",
       "      <th>Received</th>\n",
       "      <th>Forecaster</th>\n",
       "    </tr>\n",
       "  </thead>\n",
       "  <tbody>\n",
       "    <tr>\n",
       "      <td>0</td>\n",
       "      <td>1</td>\n",
       "      <td>08/30/2018 11:00</td>\n",
       "      <td>12.9</td>\n",
       "      <td>18.4</td>\n",
       "      <td>30</td>\n",
       "      <td>1007</td>\n",
       "      <td>W at 12 MPH (280 deg)</td>\n",
       "      <td>Potential Tropical Cyclone</td>\n",
       "      <td>Six</td>\n",
       "      <td>08/30/2018 10:45</td>\n",
       "      <td>Avila</td>\n",
       "    </tr>\n",
       "    <tr>\n",
       "      <td>1</td>\n",
       "      <td>1A</td>\n",
       "      <td>08/30/2018 14:00</td>\n",
       "      <td>12.9</td>\n",
       "      <td>19.0</td>\n",
       "      <td>30</td>\n",
       "      <td>1007</td>\n",
       "      <td>W at 12 MPH (280 deg)</td>\n",
       "      <td>Potential Tropical Cyclone</td>\n",
       "      <td>Six</td>\n",
       "      <td>08/30/2018 13:36</td>\n",
       "      <td>Avila</td>\n",
       "    </tr>\n",
       "    <tr>\n",
       "      <td>2</td>\n",
       "      <td>2</td>\n",
       "      <td>08/30/2018 17:00</td>\n",
       "      <td>12.9</td>\n",
       "      <td>19.4</td>\n",
       "      <td>30</td>\n",
       "      <td>1007</td>\n",
       "      <td>W at 9 MPH (280 deg)</td>\n",
       "      <td>Potential Tropical Cyclone</td>\n",
       "      <td>Six</td>\n",
       "      <td>08/30/2018 16:36</td>\n",
       "      <td>Avila</td>\n",
       "    </tr>\n",
       "    <tr>\n",
       "      <td>3</td>\n",
       "      <td>2A</td>\n",
       "      <td>08/30/2018 20:00</td>\n",
       "      <td>13.1</td>\n",
       "      <td>20.4</td>\n",
       "      <td>30</td>\n",
       "      <td>1007</td>\n",
       "      <td>W at 11 MPH (280 deg)</td>\n",
       "      <td>Potential Tropical Cyclone</td>\n",
       "      <td>Six</td>\n",
       "      <td>08/30/2018 19:44</td>\n",
       "      <td>Beven</td>\n",
       "    </tr>\n",
       "    <tr>\n",
       "      <td>4</td>\n",
       "      <td>3</td>\n",
       "      <td>08/30/2018 23:00</td>\n",
       "      <td>13.2</td>\n",
       "      <td>20.9</td>\n",
       "      <td>35</td>\n",
       "      <td>1007</td>\n",
       "      <td>W at 13 MPH (280 deg)</td>\n",
       "      <td>Potential Tropical Cyclone</td>\n",
       "      <td>Six</td>\n",
       "      <td>08/30/2018 22:42</td>\n",
       "      <td>Beven</td>\n",
       "    </tr>\n",
       "  </tbody>\n",
       "</table>\n",
       "</div>"
      ],
      "text/plain": [
       "  AdvisoryNumber              Date   Lat  Long  Wind  Pres  \\\n",
       "0              1  08/30/2018 11:00  12.9  18.4    30  1007   \n",
       "1             1A  08/30/2018 14:00  12.9  19.0    30  1007   \n",
       "2              2  08/30/2018 17:00  12.9  19.4    30  1007   \n",
       "3             2A  08/30/2018 20:00  13.1  20.4    30  1007   \n",
       "4              3  08/30/2018 23:00  13.2  20.9    35  1007   \n",
       "\n",
       "                Movement                        Type Name          Received  \\\n",
       "0  W at 12 MPH (280 deg)  Potential Tropical Cyclone  Six  08/30/2018 10:45   \n",
       "1  W at 12 MPH (280 deg)  Potential Tropical Cyclone  Six  08/30/2018 13:36   \n",
       "2   W at 9 MPH (280 deg)  Potential Tropical Cyclone  Six  08/30/2018 16:36   \n",
       "3  W at 11 MPH (280 deg)  Potential Tropical Cyclone  Six  08/30/2018 19:44   \n",
       "4  W at 13 MPH (280 deg)  Potential Tropical Cyclone  Six  08/30/2018 22:42   \n",
       "\n",
       "  Forecaster  \n",
       "0      Avila  \n",
       "1      Avila  \n",
       "2      Avila  \n",
       "3      Beven  \n",
       "4      Beven  "
      ]
     },
     "execution_count": 11,
     "metadata": {},
     "output_type": "execute_result"
    }
   ],
   "source": [
    "## read the florenace hurrican data\n",
    "\n",
    "florence = pd.read_csv(\"stormhistory.csv\")\n",
    "florence.head()"
   ]
  },
  {
   "cell_type": "code",
   "execution_count": 13,
   "metadata": {},
   "outputs": [
    {
     "name": "stdout",
     "output_type": "stream",
     "text": [
      "25\n",
      "140\n"
     ]
    }
   ],
   "source": [
    "#EDA on florence\n",
    "\n",
    "print(florence.Wind.min())\n",
    "print(florence.Wind.max())"
   ]
  },
  {
   "cell_type": "code",
   "execution_count": 14,
   "metadata": {},
   "outputs": [
    {
     "data": {
      "text/html": [
       "<div>\n",
       "<style scoped>\n",
       "    .dataframe tbody tr th:only-of-type {\n",
       "        vertical-align: middle;\n",
       "    }\n",
       "\n",
       "    .dataframe tbody tr th {\n",
       "        vertical-align: top;\n",
       "    }\n",
       "\n",
       "    .dataframe thead th {\n",
       "        text-align: right;\n",
       "    }\n",
       "</style>\n",
       "<table border=\"1\" class=\"dataframe\">\n",
       "  <thead>\n",
       "    <tr style=\"text-align: right;\">\n",
       "      <th></th>\n",
       "      <th>AdvisoryNumber</th>\n",
       "      <th>Date</th>\n",
       "      <th>Lat</th>\n",
       "      <th>Long</th>\n",
       "      <th>Wind</th>\n",
       "      <th>Pres</th>\n",
       "      <th>Movement</th>\n",
       "      <th>Type</th>\n",
       "      <th>Name</th>\n",
       "      <th>Received</th>\n",
       "      <th>Forecaster</th>\n",
       "    </tr>\n",
       "  </thead>\n",
       "  <tbody>\n",
       "    <tr>\n",
       "      <td>0</td>\n",
       "      <td>1</td>\n",
       "      <td>08/30/2018 11:00</td>\n",
       "      <td>12.9</td>\n",
       "      <td>-18.4</td>\n",
       "      <td>30</td>\n",
       "      <td>1007</td>\n",
       "      <td>W at 12 MPH (280 deg)</td>\n",
       "      <td>Potential Tropical Cyclone</td>\n",
       "      <td>Six</td>\n",
       "      <td>08/30/2018 10:45</td>\n",
       "      <td>Avila</td>\n",
       "    </tr>\n",
       "    <tr>\n",
       "      <td>1</td>\n",
       "      <td>1A</td>\n",
       "      <td>08/30/2018 14:00</td>\n",
       "      <td>12.9</td>\n",
       "      <td>-19.0</td>\n",
       "      <td>30</td>\n",
       "      <td>1007</td>\n",
       "      <td>W at 12 MPH (280 deg)</td>\n",
       "      <td>Potential Tropical Cyclone</td>\n",
       "      <td>Six</td>\n",
       "      <td>08/30/2018 13:36</td>\n",
       "      <td>Avila</td>\n",
       "    </tr>\n",
       "    <tr>\n",
       "      <td>2</td>\n",
       "      <td>2</td>\n",
       "      <td>08/30/2018 17:00</td>\n",
       "      <td>12.9</td>\n",
       "      <td>-19.4</td>\n",
       "      <td>30</td>\n",
       "      <td>1007</td>\n",
       "      <td>W at 9 MPH (280 deg)</td>\n",
       "      <td>Potential Tropical Cyclone</td>\n",
       "      <td>Six</td>\n",
       "      <td>08/30/2018 16:36</td>\n",
       "      <td>Avila</td>\n",
       "    </tr>\n",
       "    <tr>\n",
       "      <td>3</td>\n",
       "      <td>2A</td>\n",
       "      <td>08/30/2018 20:00</td>\n",
       "      <td>13.1</td>\n",
       "      <td>-20.4</td>\n",
       "      <td>30</td>\n",
       "      <td>1007</td>\n",
       "      <td>W at 11 MPH (280 deg)</td>\n",
       "      <td>Potential Tropical Cyclone</td>\n",
       "      <td>Six</td>\n",
       "      <td>08/30/2018 19:44</td>\n",
       "      <td>Beven</td>\n",
       "    </tr>\n",
       "    <tr>\n",
       "      <td>4</td>\n",
       "      <td>3</td>\n",
       "      <td>08/30/2018 23:00</td>\n",
       "      <td>13.2</td>\n",
       "      <td>-20.9</td>\n",
       "      <td>35</td>\n",
       "      <td>1007</td>\n",
       "      <td>W at 13 MPH (280 deg)</td>\n",
       "      <td>Potential Tropical Cyclone</td>\n",
       "      <td>Six</td>\n",
       "      <td>08/30/2018 22:42</td>\n",
       "      <td>Beven</td>\n",
       "    </tr>\n",
       "  </tbody>\n",
       "</table>\n",
       "</div>"
      ],
      "text/plain": [
       "  AdvisoryNumber              Date   Lat  Long  Wind  Pres  \\\n",
       "0              1  08/30/2018 11:00  12.9 -18.4    30  1007   \n",
       "1             1A  08/30/2018 14:00  12.9 -19.0    30  1007   \n",
       "2              2  08/30/2018 17:00  12.9 -19.4    30  1007   \n",
       "3             2A  08/30/2018 20:00  13.1 -20.4    30  1007   \n",
       "4              3  08/30/2018 23:00  13.2 -20.9    35  1007   \n",
       "\n",
       "                Movement                        Type Name          Received  \\\n",
       "0  W at 12 MPH (280 deg)  Potential Tropical Cyclone  Six  08/30/2018 10:45   \n",
       "1  W at 12 MPH (280 deg)  Potential Tropical Cyclone  Six  08/30/2018 13:36   \n",
       "2   W at 9 MPH (280 deg)  Potential Tropical Cyclone  Six  08/30/2018 16:36   \n",
       "3  W at 11 MPH (280 deg)  Potential Tropical Cyclone  Six  08/30/2018 19:44   \n",
       "4  W at 13 MPH (280 deg)  Potential Tropical Cyclone  Six  08/30/2018 22:42   \n",
       "\n",
       "  Forecaster  \n",
       "0      Avila  \n",
       "1      Avila  \n",
       "2      Avila  \n",
       "3      Beven  \n",
       "4      Beven  "
      ]
     },
     "execution_count": 14,
     "metadata": {},
     "output_type": "execute_result"
    }
   ],
   "source": [
    "## given that florence is a not a geodataframe, then we\n",
    "## will need to transform it to a GeoDataFrame with the following steps\n",
    "\n",
    "## Note: The longtitude should be negative\n",
    "## This is not necessary always the case\n",
    "florence['Long'] = 0 - florence['Long']\n",
    "\n",
    "florence.head()"
   ]
  },
  {
   "cell_type": "code",
   "execution_count": 15,
   "metadata": {},
   "outputs": [
    {
     "data": {
      "text/html": [
       "<div>\n",
       "<style scoped>\n",
       "    .dataframe tbody tr th:only-of-type {\n",
       "        vertical-align: middle;\n",
       "    }\n",
       "\n",
       "    .dataframe tbody tr th {\n",
       "        vertical-align: top;\n",
       "    }\n",
       "\n",
       "    .dataframe thead th {\n",
       "        text-align: right;\n",
       "    }\n",
       "</style>\n",
       "<table border=\"1\" class=\"dataframe\">\n",
       "  <thead>\n",
       "    <tr style=\"text-align: right;\">\n",
       "      <th></th>\n",
       "      <th>AdvisoryNumber</th>\n",
       "      <th>Date</th>\n",
       "      <th>Lat</th>\n",
       "      <th>Long</th>\n",
       "      <th>Wind</th>\n",
       "      <th>Pres</th>\n",
       "      <th>Movement</th>\n",
       "      <th>Type</th>\n",
       "      <th>Name</th>\n",
       "      <th>Received</th>\n",
       "      <th>Forecaster</th>\n",
       "      <th>coordinates</th>\n",
       "    </tr>\n",
       "  </thead>\n",
       "  <tbody>\n",
       "    <tr>\n",
       "      <td>0</td>\n",
       "      <td>1</td>\n",
       "      <td>08/30/2018 11:00</td>\n",
       "      <td>12.9</td>\n",
       "      <td>-18.4</td>\n",
       "      <td>30</td>\n",
       "      <td>1007</td>\n",
       "      <td>W at 12 MPH (280 deg)</td>\n",
       "      <td>Potential Tropical Cyclone</td>\n",
       "      <td>Six</td>\n",
       "      <td>08/30/2018 10:45</td>\n",
       "      <td>Avila</td>\n",
       "      <td>[-18.4, 12.9]</td>\n",
       "    </tr>\n",
       "    <tr>\n",
       "      <td>1</td>\n",
       "      <td>1A</td>\n",
       "      <td>08/30/2018 14:00</td>\n",
       "      <td>12.9</td>\n",
       "      <td>-19.0</td>\n",
       "      <td>30</td>\n",
       "      <td>1007</td>\n",
       "      <td>W at 12 MPH (280 deg)</td>\n",
       "      <td>Potential Tropical Cyclone</td>\n",
       "      <td>Six</td>\n",
       "      <td>08/30/2018 13:36</td>\n",
       "      <td>Avila</td>\n",
       "      <td>[-19.0, 12.9]</td>\n",
       "    </tr>\n",
       "    <tr>\n",
       "      <td>2</td>\n",
       "      <td>2</td>\n",
       "      <td>08/30/2018 17:00</td>\n",
       "      <td>12.9</td>\n",
       "      <td>-19.4</td>\n",
       "      <td>30</td>\n",
       "      <td>1007</td>\n",
       "      <td>W at 9 MPH (280 deg)</td>\n",
       "      <td>Potential Tropical Cyclone</td>\n",
       "      <td>Six</td>\n",
       "      <td>08/30/2018 16:36</td>\n",
       "      <td>Avila</td>\n",
       "      <td>[-19.4, 12.9]</td>\n",
       "    </tr>\n",
       "    <tr>\n",
       "      <td>3</td>\n",
       "      <td>2A</td>\n",
       "      <td>08/30/2018 20:00</td>\n",
       "      <td>13.1</td>\n",
       "      <td>-20.4</td>\n",
       "      <td>30</td>\n",
       "      <td>1007</td>\n",
       "      <td>W at 11 MPH (280 deg)</td>\n",
       "      <td>Potential Tropical Cyclone</td>\n",
       "      <td>Six</td>\n",
       "      <td>08/30/2018 19:44</td>\n",
       "      <td>Beven</td>\n",
       "      <td>[-20.4, 13.1]</td>\n",
       "    </tr>\n",
       "    <tr>\n",
       "      <td>4</td>\n",
       "      <td>3</td>\n",
       "      <td>08/30/2018 23:00</td>\n",
       "      <td>13.2</td>\n",
       "      <td>-20.9</td>\n",
       "      <td>35</td>\n",
       "      <td>1007</td>\n",
       "      <td>W at 13 MPH (280 deg)</td>\n",
       "      <td>Potential Tropical Cyclone</td>\n",
       "      <td>Six</td>\n",
       "      <td>08/30/2018 22:42</td>\n",
       "      <td>Beven</td>\n",
       "      <td>[-20.9, 13.2]</td>\n",
       "    </tr>\n",
       "  </tbody>\n",
       "</table>\n",
       "</div>"
      ],
      "text/plain": [
       "  AdvisoryNumber              Date   Lat  Long  Wind  Pres  \\\n",
       "0              1  08/30/2018 11:00  12.9 -18.4    30  1007   \n",
       "1             1A  08/30/2018 14:00  12.9 -19.0    30  1007   \n",
       "2              2  08/30/2018 17:00  12.9 -19.4    30  1007   \n",
       "3             2A  08/30/2018 20:00  13.1 -20.4    30  1007   \n",
       "4              3  08/30/2018 23:00  13.2 -20.9    35  1007   \n",
       "\n",
       "                Movement                        Type Name          Received  \\\n",
       "0  W at 12 MPH (280 deg)  Potential Tropical Cyclone  Six  08/30/2018 10:45   \n",
       "1  W at 12 MPH (280 deg)  Potential Tropical Cyclone  Six  08/30/2018 13:36   \n",
       "2   W at 9 MPH (280 deg)  Potential Tropical Cyclone  Six  08/30/2018 16:36   \n",
       "3  W at 11 MPH (280 deg)  Potential Tropical Cyclone  Six  08/30/2018 19:44   \n",
       "4  W at 13 MPH (280 deg)  Potential Tropical Cyclone  Six  08/30/2018 22:42   \n",
       "\n",
       "  Forecaster    coordinates  \n",
       "0      Avila  [-18.4, 12.9]  \n",
       "1      Avila  [-19.0, 12.9]  \n",
       "2      Avila  [-19.4, 12.9]  \n",
       "3      Beven  [-20.4, 13.1]  \n",
       "4      Beven  [-20.9, 13.2]  "
      ]
     },
     "execution_count": 15,
     "metadata": {},
     "output_type": "execute_result"
    }
   ],
   "source": [
    "# step 1: combine the lat and long to create hurricane coordinates\n",
    "florence['coordinates'] = florence[['Long', 'Lat']].values.tolist()\n",
    "florence.head()"
   ]
  },
  {
   "cell_type": "code",
   "execution_count": 17,
   "metadata": {},
   "outputs": [
    {
     "data": {
      "text/html": [
       "<div>\n",
       "<style scoped>\n",
       "    .dataframe tbody tr th:only-of-type {\n",
       "        vertical-align: middle;\n",
       "    }\n",
       "\n",
       "    .dataframe tbody tr th {\n",
       "        vertical-align: top;\n",
       "    }\n",
       "\n",
       "    .dataframe thead th {\n",
       "        text-align: right;\n",
       "    }\n",
       "</style>\n",
       "<table border=\"1\" class=\"dataframe\">\n",
       "  <thead>\n",
       "    <tr style=\"text-align: right;\">\n",
       "      <th></th>\n",
       "      <th>AdvisoryNumber</th>\n",
       "      <th>Date</th>\n",
       "      <th>Lat</th>\n",
       "      <th>Long</th>\n",
       "      <th>Wind</th>\n",
       "      <th>Pres</th>\n",
       "      <th>Movement</th>\n",
       "      <th>Type</th>\n",
       "      <th>Name</th>\n",
       "      <th>Received</th>\n",
       "      <th>Forecaster</th>\n",
       "      <th>coordinates</th>\n",
       "    </tr>\n",
       "  </thead>\n",
       "  <tbody>\n",
       "    <tr>\n",
       "      <td>0</td>\n",
       "      <td>1</td>\n",
       "      <td>08/30/2018 11:00</td>\n",
       "      <td>12.9</td>\n",
       "      <td>-18.4</td>\n",
       "      <td>30</td>\n",
       "      <td>1007</td>\n",
       "      <td>W at 12 MPH (280 deg)</td>\n",
       "      <td>Potential Tropical Cyclone</td>\n",
       "      <td>Six</td>\n",
       "      <td>08/30/2018 10:45</td>\n",
       "      <td>Avila</td>\n",
       "      <td>POINT (-18.4 12.9)</td>\n",
       "    </tr>\n",
       "    <tr>\n",
       "      <td>1</td>\n",
       "      <td>1A</td>\n",
       "      <td>08/30/2018 14:00</td>\n",
       "      <td>12.9</td>\n",
       "      <td>-19.0</td>\n",
       "      <td>30</td>\n",
       "      <td>1007</td>\n",
       "      <td>W at 12 MPH (280 deg)</td>\n",
       "      <td>Potential Tropical Cyclone</td>\n",
       "      <td>Six</td>\n",
       "      <td>08/30/2018 13:36</td>\n",
       "      <td>Avila</td>\n",
       "      <td>POINT (-19 12.9)</td>\n",
       "    </tr>\n",
       "    <tr>\n",
       "      <td>2</td>\n",
       "      <td>2</td>\n",
       "      <td>08/30/2018 17:00</td>\n",
       "      <td>12.9</td>\n",
       "      <td>-19.4</td>\n",
       "      <td>30</td>\n",
       "      <td>1007</td>\n",
       "      <td>W at 9 MPH (280 deg)</td>\n",
       "      <td>Potential Tropical Cyclone</td>\n",
       "      <td>Six</td>\n",
       "      <td>08/30/2018 16:36</td>\n",
       "      <td>Avila</td>\n",
       "      <td>POINT (-19.4 12.9)</td>\n",
       "    </tr>\n",
       "    <tr>\n",
       "      <td>3</td>\n",
       "      <td>2A</td>\n",
       "      <td>08/30/2018 20:00</td>\n",
       "      <td>13.1</td>\n",
       "      <td>-20.4</td>\n",
       "      <td>30</td>\n",
       "      <td>1007</td>\n",
       "      <td>W at 11 MPH (280 deg)</td>\n",
       "      <td>Potential Tropical Cyclone</td>\n",
       "      <td>Six</td>\n",
       "      <td>08/30/2018 19:44</td>\n",
       "      <td>Beven</td>\n",
       "      <td>POINT (-20.4 13.1)</td>\n",
       "    </tr>\n",
       "    <tr>\n",
       "      <td>4</td>\n",
       "      <td>3</td>\n",
       "      <td>08/30/2018 23:00</td>\n",
       "      <td>13.2</td>\n",
       "      <td>-20.9</td>\n",
       "      <td>35</td>\n",
       "      <td>1007</td>\n",
       "      <td>W at 13 MPH (280 deg)</td>\n",
       "      <td>Potential Tropical Cyclone</td>\n",
       "      <td>Six</td>\n",
       "      <td>08/30/2018 22:42</td>\n",
       "      <td>Beven</td>\n",
       "      <td>POINT (-20.9 13.2)</td>\n",
       "    </tr>\n",
       "  </tbody>\n",
       "</table>\n",
       "</div>"
      ],
      "text/plain": [
       "  AdvisoryNumber              Date   Lat  Long  Wind  Pres  \\\n",
       "0              1  08/30/2018 11:00  12.9 -18.4    30  1007   \n",
       "1             1A  08/30/2018 14:00  12.9 -19.0    30  1007   \n",
       "2              2  08/30/2018 17:00  12.9 -19.4    30  1007   \n",
       "3             2A  08/30/2018 20:00  13.1 -20.4    30  1007   \n",
       "4              3  08/30/2018 23:00  13.2 -20.9    35  1007   \n",
       "\n",
       "                Movement                        Type Name          Received  \\\n",
       "0  W at 12 MPH (280 deg)  Potential Tropical Cyclone  Six  08/30/2018 10:45   \n",
       "1  W at 12 MPH (280 deg)  Potential Tropical Cyclone  Six  08/30/2018 13:36   \n",
       "2   W at 9 MPH (280 deg)  Potential Tropical Cyclone  Six  08/30/2018 16:36   \n",
       "3  W at 11 MPH (280 deg)  Potential Tropical Cyclone  Six  08/30/2018 19:44   \n",
       "4  W at 13 MPH (280 deg)  Potential Tropical Cyclone  Six  08/30/2018 22:42   \n",
       "\n",
       "  Forecaster         coordinates  \n",
       "0      Avila  POINT (-18.4 12.9)  \n",
       "1      Avila    POINT (-19 12.9)  \n",
       "2      Avila  POINT (-19.4 12.9)  \n",
       "3      Beven  POINT (-20.4 13.1)  \n",
       "4      Beven  POINT (-20.9 13.2)  "
      ]
     },
     "execution_count": 17,
     "metadata": {},
     "output_type": "execute_result"
    }
   ],
   "source": [
    "# Step 2: Change the coordinate to a Point data structure so you\n",
    "# can add it to a map. The Point method comes from Shapely package\n",
    "\n",
    "florence['coordinates'] = florence['coordinates'].apply(Point)\n",
    "florence.head()"
   ]
  },
  {
   "cell_type": "code",
   "execution_count": 18,
   "metadata": {},
   "outputs": [
    {
     "data": {
      "text/html": [
       "<div>\n",
       "<style scoped>\n",
       "    .dataframe tbody tr th:only-of-type {\n",
       "        vertical-align: middle;\n",
       "    }\n",
       "\n",
       "    .dataframe tbody tr th {\n",
       "        vertical-align: top;\n",
       "    }\n",
       "\n",
       "    .dataframe thead th {\n",
       "        text-align: right;\n",
       "    }\n",
       "</style>\n",
       "<table border=\"1\" class=\"dataframe\">\n",
       "  <thead>\n",
       "    <tr style=\"text-align: right;\">\n",
       "      <th></th>\n",
       "      <th>AdvisoryNumber</th>\n",
       "      <th>Date</th>\n",
       "      <th>Lat</th>\n",
       "      <th>Long</th>\n",
       "      <th>Wind</th>\n",
       "      <th>Pres</th>\n",
       "      <th>Movement</th>\n",
       "      <th>Type</th>\n",
       "      <th>Name</th>\n",
       "      <th>Received</th>\n",
       "      <th>Forecaster</th>\n",
       "      <th>coordinates</th>\n",
       "    </tr>\n",
       "  </thead>\n",
       "  <tbody>\n",
       "    <tr>\n",
       "      <td>0</td>\n",
       "      <td>1</td>\n",
       "      <td>08/30/2018 11:00</td>\n",
       "      <td>12.9</td>\n",
       "      <td>-18.4</td>\n",
       "      <td>30</td>\n",
       "      <td>1007</td>\n",
       "      <td>W at 12 MPH (280 deg)</td>\n",
       "      <td>Potential Tropical Cyclone</td>\n",
       "      <td>Six</td>\n",
       "      <td>08/30/2018 10:45</td>\n",
       "      <td>Avila</td>\n",
       "      <td>POINT (-18.40000 12.90000)</td>\n",
       "    </tr>\n",
       "    <tr>\n",
       "      <td>1</td>\n",
       "      <td>1A</td>\n",
       "      <td>08/30/2018 14:00</td>\n",
       "      <td>12.9</td>\n",
       "      <td>-19.0</td>\n",
       "      <td>30</td>\n",
       "      <td>1007</td>\n",
       "      <td>W at 12 MPH (280 deg)</td>\n",
       "      <td>Potential Tropical Cyclone</td>\n",
       "      <td>Six</td>\n",
       "      <td>08/30/2018 13:36</td>\n",
       "      <td>Avila</td>\n",
       "      <td>POINT (-19.00000 12.90000)</td>\n",
       "    </tr>\n",
       "    <tr>\n",
       "      <td>2</td>\n",
       "      <td>2</td>\n",
       "      <td>08/30/2018 17:00</td>\n",
       "      <td>12.9</td>\n",
       "      <td>-19.4</td>\n",
       "      <td>30</td>\n",
       "      <td>1007</td>\n",
       "      <td>W at 9 MPH (280 deg)</td>\n",
       "      <td>Potential Tropical Cyclone</td>\n",
       "      <td>Six</td>\n",
       "      <td>08/30/2018 16:36</td>\n",
       "      <td>Avila</td>\n",
       "      <td>POINT (-19.40000 12.90000)</td>\n",
       "    </tr>\n",
       "    <tr>\n",
       "      <td>3</td>\n",
       "      <td>2A</td>\n",
       "      <td>08/30/2018 20:00</td>\n",
       "      <td>13.1</td>\n",
       "      <td>-20.4</td>\n",
       "      <td>30</td>\n",
       "      <td>1007</td>\n",
       "      <td>W at 11 MPH (280 deg)</td>\n",
       "      <td>Potential Tropical Cyclone</td>\n",
       "      <td>Six</td>\n",
       "      <td>08/30/2018 19:44</td>\n",
       "      <td>Beven</td>\n",
       "      <td>POINT (-20.40000 13.10000)</td>\n",
       "    </tr>\n",
       "    <tr>\n",
       "      <td>4</td>\n",
       "      <td>3</td>\n",
       "      <td>08/30/2018 23:00</td>\n",
       "      <td>13.2</td>\n",
       "      <td>-20.9</td>\n",
       "      <td>35</td>\n",
       "      <td>1007</td>\n",
       "      <td>W at 13 MPH (280 deg)</td>\n",
       "      <td>Potential Tropical Cyclone</td>\n",
       "      <td>Six</td>\n",
       "      <td>08/30/2018 22:42</td>\n",
       "      <td>Beven</td>\n",
       "      <td>POINT (-20.90000 13.20000)</td>\n",
       "    </tr>\n",
       "  </tbody>\n",
       "</table>\n",
       "</div>"
      ],
      "text/plain": [
       "  AdvisoryNumber              Date   Lat  Long  Wind  Pres  \\\n",
       "0              1  08/30/2018 11:00  12.9 -18.4    30  1007   \n",
       "1             1A  08/30/2018 14:00  12.9 -19.0    30  1007   \n",
       "2              2  08/30/2018 17:00  12.9 -19.4    30  1007   \n",
       "3             2A  08/30/2018 20:00  13.1 -20.4    30  1007   \n",
       "4              3  08/30/2018 23:00  13.2 -20.9    35  1007   \n",
       "\n",
       "                Movement                        Type Name          Received  \\\n",
       "0  W at 12 MPH (280 deg)  Potential Tropical Cyclone  Six  08/30/2018 10:45   \n",
       "1  W at 12 MPH (280 deg)  Potential Tropical Cyclone  Six  08/30/2018 13:36   \n",
       "2   W at 9 MPH (280 deg)  Potential Tropical Cyclone  Six  08/30/2018 16:36   \n",
       "3  W at 11 MPH (280 deg)  Potential Tropical Cyclone  Six  08/30/2018 19:44   \n",
       "4  W at 13 MPH (280 deg)  Potential Tropical Cyclone  Six  08/30/2018 22:42   \n",
       "\n",
       "  Forecaster                 coordinates  \n",
       "0      Avila  POINT (-18.40000 12.90000)  \n",
       "1      Avila  POINT (-19.00000 12.90000)  \n",
       "2      Avila  POINT (-19.40000 12.90000)  \n",
       "3      Beven  POINT (-20.40000 13.10000)  \n",
       "4      Beven  POINT (-20.90000 13.20000)  "
      ]
     },
     "execution_count": 18,
     "metadata": {},
     "output_type": "execute_result"
    }
   ],
   "source": [
    "# Step 3: Convert florence from a DataFrame to a GeoDataFrame\n",
    "\n",
    "florence = gpd.GeoDataFrame(florence, geometry = \"coordinates\")\n",
    "type(florence)\n",
    "florence.head()"
   ]
  },
  {
   "cell_type": "code",
   "execution_count": 19,
   "metadata": {},
   "outputs": [
    {
     "data": {
      "text/plain": [
       "<matplotlib.axes._subplots.AxesSubplot at 0x123629f50>"
      ]
     },
     "execution_count": 19,
     "metadata": {},
     "output_type": "execute_result"
    },
    {
     "data": {
      "image/png": "[encoded data removed]",
      "text/plain": [
       "<Figure size 432x288 with 1 Axes>"
      ]
     },
     "metadata": {
      "needs_background": "light"
     },
     "output_type": "display_data"
    }
   ],
   "source": [
    "florence.plot()"
   ]
  },
  {
   "cell_type": "code",
   "execution_count": 20,
   "metadata": {},
   "outputs": [
    {
     "name": "stderr",
     "output_type": "stream",
     "text": [
      "/opt/anaconda3/lib/python3.7/site-packages/ipykernel_launcher.py:10: UserWarning: Matplotlib is currently using module://ipykernel.pylab.backend_inline, which is a non-GUI backend, so cannot show the figure.\n",
      "  # Remove the CWD from sys.path while we load stuff.\n"
     ]
    },
    {
     "data": {
      "image/png": "[encoded data removed]",
      "text/plain": [
       "<Figure size 720x504 with 1 Axes>"
      ]
     },
     "metadata": {
      "needs_background": "light"
     },
     "output_type": "display_data"
    }
   ],
   "source": [
    "### Visualize the path of the hurricane on top of the USA map\n",
    "\n",
    "fig, ax = plt.subplots(1, figsize = (10, 7))\n",
    "\n",
    "base = usa.plot(ax = ax, color = \"green\")\n",
    "florence.plot(ax = base, marker = \">\", column = \"Wind\", cmap = \"Reds\", label = \"Wind Speed (mph)\")\n",
    "ax.axis(\"off\")\n",
    "plt.legend()\n",
    "plt.title(\"Hurricane Florence in USA Map\", fontsize = 20)\n",
    "fig.show()"
   ]
  },
  {
   "cell_type": "code",
   "execution_count": 21,
   "metadata": {},
   "outputs": [
    {
     "data": {
      "text/html": [
       "<div>\n",
       "<style scoped>\n",
       "    .dataframe tbody tr th:only-of-type {\n",
       "        vertical-align: middle;\n",
       "    }\n",
       "\n",
       "    .dataframe tbody tr th {\n",
       "        vertical-align: top;\n",
       "    }\n",
       "\n",
       "    .dataframe thead th {\n",
       "        text-align: right;\n",
       "    }\n",
       "</style>\n",
       "<table border=\"1\" class=\"dataframe\">\n",
       "  <thead>\n",
       "    <tr style=\"text-align: right;\">\n",
       "      <th></th>\n",
       "      <th>first_name</th>\n",
       "      <th>city</th>\n",
       "      <th>zip</th>\n",
       "      <th>email</th>\n",
       "      <th>state</th>\n",
       "      <th>last_name</th>\n",
       "      <th>address</th>\n",
       "      <th>position</th>\n",
       "      <th>term_expir</th>\n",
       "      <th>district</th>\n",
       "      <th>phone</th>\n",
       "      <th>geometry</th>\n",
       "    </tr>\n",
       "  </thead>\n",
       "  <tbody>\n",
       "    <tr>\n",
       "      <td>0</td>\n",
       "      <td>Dr. Sharon</td>\n",
       "      <td>Nashville</td>\n",
       "      <td>37218</td>\n",
       "      <td>gentryfordistrict1@comcast.net</td>\n",
       "      <td>TN</td>\n",
       "      <td>Gentry</td>\n",
       "      <td>6108 Beals Lane</td>\n",
       "      <td>Member</td>\n",
       "      <td>2016</td>\n",
       "      <td>1</td>\n",
       "      <td>615-268-5269</td>\n",
       "      <td>MULTIPOLYGON (((-86.77136 36.38357, -86.77134 ...</td>\n",
       "    </tr>\n",
       "    <tr>\n",
       "      <td>1</td>\n",
       "      <td>Jill</td>\n",
       "      <td>Madison</td>\n",
       "      <td>37115</td>\n",
       "      <td>jill.speering@mnps.org</td>\n",
       "      <td>TN</td>\n",
       "      <td>Speering</td>\n",
       "      <td>1033 Falls Avenue</td>\n",
       "      <td>Vice-Chair</td>\n",
       "      <td>2016</td>\n",
       "      <td>3</td>\n",
       "      <td>615-562-5234</td>\n",
       "      <td>MULTIPOLYGON (((-86.75365 36.40428, -86.75353 ...</td>\n",
       "    </tr>\n",
       "    <tr>\n",
       "      <td>2</td>\n",
       "      <td>Dr. Jo Ann</td>\n",
       "      <td>Nashville</td>\n",
       "      <td>37220</td>\n",
       "      <td>joann.brannon@mnps.org</td>\n",
       "      <td>TN</td>\n",
       "      <td>Brannon</td>\n",
       "      <td>5444 San Marcos Drive</td>\n",
       "      <td>Member</td>\n",
       "      <td>2018</td>\n",
       "      <td>2</td>\n",
       "      <td>615-833-5976</td>\n",
       "      <td>MULTIPOLYGON (((-86.76696 36.08333, -86.76590 ...</td>\n",
       "    </tr>\n",
       "    <tr>\n",
       "      <td>3</td>\n",
       "      <td>Anna</td>\n",
       "      <td>Hermitage</td>\n",
       "      <td>37076</td>\n",
       "      <td>anna.shepherd@mnps.org</td>\n",
       "      <td>TN</td>\n",
       "      <td>Shepherd</td>\n",
       "      <td>4545 Raccoon Trail</td>\n",
       "      <td>Chair</td>\n",
       "      <td>2018</td>\n",
       "      <td>4</td>\n",
       "      <td>615-210-3768</td>\n",
       "      <td>MULTIPOLYGON (((-86.58098 36.20935, -86.58099 ...</td>\n",
       "    </tr>\n",
       "    <tr>\n",
       "      <td>4</td>\n",
       "      <td>Amy</td>\n",
       "      <td>Nashville</td>\n",
       "      <td>37221</td>\n",
       "      <td>amy.frogge@mnps.org</td>\n",
       "      <td>TN</td>\n",
       "      <td>Frogge</td>\n",
       "      <td>7237 Riverfront Drive</td>\n",
       "      <td>Member</td>\n",
       "      <td>2016</td>\n",
       "      <td>9</td>\n",
       "      <td>615-521-5650</td>\n",
       "      <td>MULTIPOLYGON (((-86.97287 36.20828, -86.97045 ...</td>\n",
       "    </tr>\n",
       "  </tbody>\n",
       "</table>\n",
       "</div>"
      ],
      "text/plain": [
       "   first_name       city    zip                           email state  \\\n",
       "0  Dr. Sharon  Nashville  37218  gentryfordistrict1@comcast.net    TN   \n",
       "1        Jill    Madison  37115          jill.speering@mnps.org    TN   \n",
       "2  Dr. Jo Ann  Nashville  37220          joann.brannon@mnps.org    TN   \n",
       "3        Anna  Hermitage  37076          anna.shepherd@mnps.org    TN   \n",
       "4         Amy  Nashville  37221             amy.frogge@mnps.org    TN   \n",
       "\n",
       "  last_name                address    position term_expir district  \\\n",
       "0    Gentry        6108 Beals Lane      Member       2016        1   \n",
       "1  Speering      1033 Falls Avenue  Vice-Chair       2016        3   \n",
       "2   Brannon  5444 San Marcos Drive      Member       2018        2   \n",
       "3  Shepherd     4545 Raccoon Trail       Chair       2018        4   \n",
       "4    Frogge  7237 Riverfront Drive      Member       2016        9   \n",
       "\n",
       "          phone                                           geometry  \n",
       "0  615-268-5269  MULTIPOLYGON (((-86.77136 36.38357, -86.77134 ...  \n",
       "1  615-562-5234  MULTIPOLYGON (((-86.75365 36.40428, -86.75353 ...  \n",
       "2  615-833-5976  MULTIPOLYGON (((-86.76696 36.08333, -86.76590 ...  \n",
       "3  615-210-3768  MULTIPOLYGON (((-86.58098 36.20935, -86.58099 ...  \n",
       "4  615-521-5650  MULTIPOLYGON (((-86.97287 36.20828, -86.97045 ...  "
      ]
     },
     "execution_count": 21,
     "metadata": {},
     "output_type": "execute_result"
    }
   ],
   "source": [
    "### Use the school_districts.geojson\n",
    "\n",
    "school_districts = gpd.read_file(\"school_districts.geojson\")\n",
    "school_districts.head()"
   ]
  },
  {
   "cell_type": "code",
   "execution_count": 22,
   "metadata": {},
   "outputs": [
    {
     "data": {
      "text/plain": [
       "geopandas.geodataframe.GeoDataFrame"
      ]
     },
     "execution_count": 22,
     "metadata": {},
     "output_type": "execute_result"
    }
   ],
   "source": [
    "type(school_districts)"
   ]
  },
  {
   "cell_type": "code",
   "execution_count": 23,
   "metadata": {},
   "outputs": [
    {
     "data": {
      "text/html": [
       "<div>\n",
       "<style scoped>\n",
       "    .dataframe tbody tr th:only-of-type {\n",
       "        vertical-align: middle;\n",
       "    }\n",
       "\n",
       "    .dataframe tbody tr th {\n",
       "        vertical-align: top;\n",
       "    }\n",
       "\n",
       "    .dataframe thead th {\n",
       "        text-align: right;\n",
       "    }\n",
       "</style>\n",
       "<table border=\"1\" class=\"dataframe\">\n",
       "  <thead>\n",
       "    <tr style=\"text-align: right;\">\n",
       "      <th></th>\n",
       "      <th>first_name</th>\n",
       "      <th>city</th>\n",
       "      <th>zip</th>\n",
       "      <th>email</th>\n",
       "      <th>state</th>\n",
       "      <th>last_name</th>\n",
       "      <th>address</th>\n",
       "      <th>position</th>\n",
       "      <th>term_expir</th>\n",
       "      <th>district</th>\n",
       "      <th>phone</th>\n",
       "      <th>geometry</th>\n",
       "    </tr>\n",
       "  </thead>\n",
       "  <tbody>\n",
       "    <tr>\n",
       "      <td>0</td>\n",
       "      <td>Dr. Sharon</td>\n",
       "      <td>Nashville</td>\n",
       "      <td>37218</td>\n",
       "      <td>gentryfordistrict1@comcast.net</td>\n",
       "      <td>TN</td>\n",
       "      <td>Gentry</td>\n",
       "      <td>6108 Beals Lane</td>\n",
       "      <td>Member</td>\n",
       "      <td>2016</td>\n",
       "      <td>1</td>\n",
       "      <td>615-268-5269</td>\n",
       "      <td>MULTIPOLYGON (((-86.77136 36.38357, -86.77134 ...</td>\n",
       "    </tr>\n",
       "    <tr>\n",
       "      <td>1</td>\n",
       "      <td>Jill</td>\n",
       "      <td>Madison</td>\n",
       "      <td>37115</td>\n",
       "      <td>jill.speering@mnps.org</td>\n",
       "      <td>TN</td>\n",
       "      <td>Speering</td>\n",
       "      <td>1033 Falls Avenue</td>\n",
       "      <td>Vice-Chair</td>\n",
       "      <td>2016</td>\n",
       "      <td>3</td>\n",
       "      <td>615-562-5234</td>\n",
       "      <td>MULTIPOLYGON (((-86.75365 36.40428, -86.75353 ...</td>\n",
       "    </tr>\n",
       "    <tr>\n",
       "      <td>2</td>\n",
       "      <td>Dr. Jo Ann</td>\n",
       "      <td>Nashville</td>\n",
       "      <td>37220</td>\n",
       "      <td>joann.brannon@mnps.org</td>\n",
       "      <td>TN</td>\n",
       "      <td>Brannon</td>\n",
       "      <td>5444 San Marcos Drive</td>\n",
       "      <td>Member</td>\n",
       "      <td>2018</td>\n",
       "      <td>2</td>\n",
       "      <td>615-833-5976</td>\n",
       "      <td>MULTIPOLYGON (((-86.76696 36.08333, -86.76590 ...</td>\n",
       "    </tr>\n",
       "    <tr>\n",
       "      <td>3</td>\n",
       "      <td>Anna</td>\n",
       "      <td>Hermitage</td>\n",
       "      <td>37076</td>\n",
       "      <td>anna.shepherd@mnps.org</td>\n",
       "      <td>TN</td>\n",
       "      <td>Shepherd</td>\n",
       "      <td>4545 Raccoon Trail</td>\n",
       "      <td>Chair</td>\n",
       "      <td>2018</td>\n",
       "      <td>4</td>\n",
       "      <td>615-210-3768</td>\n",
       "      <td>MULTIPOLYGON (((-86.58098 36.20935, -86.58099 ...</td>\n",
       "    </tr>\n",
       "    <tr>\n",
       "      <td>4</td>\n",
       "      <td>Amy</td>\n",
       "      <td>Nashville</td>\n",
       "      <td>37221</td>\n",
       "      <td>amy.frogge@mnps.org</td>\n",
       "      <td>TN</td>\n",
       "      <td>Frogge</td>\n",
       "      <td>7237 Riverfront Drive</td>\n",
       "      <td>Member</td>\n",
       "      <td>2016</td>\n",
       "      <td>9</td>\n",
       "      <td>615-521-5650</td>\n",
       "      <td>MULTIPOLYGON (((-86.97287 36.20828, -86.97045 ...</td>\n",
       "    </tr>\n",
       "  </tbody>\n",
       "</table>\n",
       "</div>"
      ],
      "text/plain": [
       "   first_name       city    zip                           email state  \\\n",
       "0  Dr. Sharon  Nashville  37218  gentryfordistrict1@comcast.net    TN   \n",
       "1        Jill    Madison  37115          jill.speering@mnps.org    TN   \n",
       "2  Dr. Jo Ann  Nashville  37220          joann.brannon@mnps.org    TN   \n",
       "3        Anna  Hermitage  37076          anna.shepherd@mnps.org    TN   \n",
       "4         Amy  Nashville  37221             amy.frogge@mnps.org    TN   \n",
       "\n",
       "  last_name                address    position term_expir district  \\\n",
       "0    Gentry        6108 Beals Lane      Member       2016        1   \n",
       "1  Speering      1033 Falls Avenue  Vice-Chair       2016        3   \n",
       "2   Brannon  5444 San Marcos Drive      Member       2018        2   \n",
       "3  Shepherd     4545 Raccoon Trail       Chair       2018        4   \n",
       "4    Frogge  7237 Riverfront Drive      Member       2016        9   \n",
       "\n",
       "          phone                                           geometry  \n",
       "0  615-268-5269  MULTIPOLYGON (((-86.77136 36.38357, -86.77134 ...  \n",
       "1  615-562-5234  MULTIPOLYGON (((-86.75365 36.40428, -86.75353 ...  \n",
       "2  615-833-5976  MULTIPOLYGON (((-86.76696 36.08333, -86.76590 ...  \n",
       "3  615-210-3768  MULTIPOLYGON (((-86.58098 36.20935, -86.58099 ...  \n",
       "4  615-521-5650  MULTIPOLYGON (((-86.97287 36.20828, -86.97045 ...  "
      ]
     },
     "execution_count": 23,
     "metadata": {},
     "output_type": "execute_result"
    },
    {
     "data": {
      "image/png": "[encoded data removed]",
      "text/plain": [
       "<Figure size 432x288 with 1 Axes>"
      ]
     },
     "metadata": {
      "needs_background": "light"
     },
     "output_type": "display_data"
    }
   ],
   "source": [
    "## define some legend parameters\n",
    "\n",
    "lgnd_kwds = {'title': 'School District',\n",
    "             'loc': \"upper left\",\n",
    "             'bbox_to_anchor': (1, 1.03),\n",
    "             'ncol' :2 }\n",
    "\n",
    "school_districts.plot(column = 'district', legend = True,\n",
    "                     legend_kwds = lgnd_kwds)\n",
    "plt.title(\"Nashville School Districts\")\n",
    "\n",
    "school_districts.head()"
   ]
  },
  {
   "cell_type": "code",
   "execution_count": 24,
   "metadata": {},
   "outputs": [
    {
     "data": {
      "text/plain": [
       "{'init': 'epsg:4326'}"
      ]
     },
     "execution_count": 24,
     "metadata": {},
     "output_type": "execute_result"
    }
   ],
   "source": [
    "# inspect the CRS (coordinate reference system)\n",
    "school_districts.crs"
   ]
  },
  {
   "cell_type": "code",
   "execution_count": 25,
   "metadata": {},
   "outputs": [
    {
     "data": {
      "text/plain": [
       "0    MULTIPOLYGON (((-86.77136 36.38357, -86.77134 ...\n",
       "1    MULTIPOLYGON (((-86.75365 36.40428, -86.75353 ...\n",
       "2    MULTIPOLYGON (((-86.76696 36.08333, -86.76590 ...\n",
       "3    MULTIPOLYGON (((-86.58098 36.20935, -86.58099 ...\n",
       "4    MULTIPOLYGON (((-86.97287 36.20828, -86.97045 ...\n",
       "5    MULTIPOLYGON (((-86.80849 36.14744, -86.80863 ...\n",
       "6    MULTIPOLYGON (((-86.69728 36.20414, -86.69696 ...\n",
       "7    MULTIPOLYGON (((-86.70559 36.09685, -86.70306 ...\n",
       "8    MULTIPOLYGON (((-86.55811 36.13984, -86.55812 ...\n",
       "Name: geometry, dtype: geometry"
      ]
     },
     "execution_count": 25,
     "metadata": {},
     "output_type": "execute_result"
    }
   ],
   "source": [
    "## EPSG: European Petrolum Survey Group\n",
    "## EPSG:4326 - units are in degrees (Used by Google Earth)\n",
    "## EPSG:3857 - units are in meters (used by Google Map, Bing Map, Open Street Maps)\n",
    "\n",
    "# before\n",
    "school_districts.geometry"
   ]
  },
  {
   "cell_type": "code",
   "execution_count": 26,
   "metadata": {},
   "outputs": [
    {
     "data": {
      "text/plain": [
       "0    MULTIPOLYGON (((-9659344.056 4353528.767, -965...\n",
       "1    MULTIPOLYGON (((-9657371.823 4356392.677, -965...\n",
       "2    MULTIPOLYGON (((-9658854.027 4312092.829, -965...\n",
       "3    MULTIPOLYGON (((-9638150.956 4329465.543, -963...\n",
       "4    MULTIPOLYGON (((-9681775.713 4329318.217, -968...\n",
       "5    MULTIPOLYGON (((-9663476.569 4320928.175, -966...\n",
       "6    MULTIPOLYGON (((-9651096.617 4328747.062, -965...\n",
       "7    MULTIPOLYGON (((-9652022.128 4313956.530, -965...\n",
       "8    MULTIPOLYGON (((-9635605.155 4319880.308, -963...\n",
       "Name: geometry, dtype: geometry"
      ]
     },
     "execution_count": 26,
     "metadata": {},
     "output_type": "execute_result"
    }
   ],
   "source": [
    "# after\n",
    "## to change from degrees to meter (you might need to override the data to reflect the changes)\n",
    "school_districts.geometry.to_crs(epsg = 3857)"
   ]
  },
  {
   "cell_type": "code",
   "execution_count": 27,
   "metadata": {},
   "outputs": [
    {
     "data": {
      "text/plain": [
       "0    0.036641\n",
       "1    0.014205\n",
       "2    0.008328\n",
       "3    0.014123\n",
       "4    0.023030\n",
       "5    0.010704\n",
       "6    0.006415\n",
       "7    0.007813\n",
       "8    0.015004\n",
       "dtype: float64"
      ]
     },
     "execution_count": 27,
     "metadata": {},
     "output_type": "execute_result"
    }
   ],
   "source": [
    "# GeoSeries area\n",
    "\n",
    "type(school_districts.geometry)\n",
    "school_districts.geometry.area ## area in degrees-sq"
   ]
  },
  {
   "cell_type": "code",
   "execution_count": 28,
   "metadata": {},
   "outputs": [
    {
     "data": {
      "text/plain": [
       "0    5.631344e+08\n",
       "1    2.183699e+08\n",
       "2    1.276154e+08\n",
       "3    2.168715e+08\n",
       "4    3.532321e+08\n",
       "5    1.641375e+08\n",
       "6    9.846963e+07\n",
       "7    1.197423e+08\n",
       "8    2.301357e+08\n",
       "dtype: float64"
      ]
     },
     "execution_count": 28,
     "metadata": {},
     "output_type": "execute_result"
    }
   ],
   "source": [
    "school_districts.geometry.to_crs(epsg = 3857).area # area in meter-sq"
   ]
  },
  {
   "cell_type": "code",
   "execution_count": 29,
   "metadata": {},
   "outputs": [
    {
     "data": {
      "text/plain": [
       "0    POINT (-9669306.578 4336855.418)\n",
       "1    POINT (-9654029.684 4339936.352)\n",
       "2    POINT (-9651575.219 4304781.406)\n",
       "3    POINT (-9644681.594 4327762.317)\n",
       "4    POINT (-9679704.606 4314937.563)\n",
       "5    POINT (-9665580.354 4312107.938)\n",
       "6    POINT (-9657204.515 4324033.296)\n",
       "7    POINT (-9644015.599 4307430.029)\n",
       "8    POINT (-9645050.503 4315506.700)\n",
       "dtype: geometry"
      ]
     },
     "execution_count": 29,
     "metadata": {},
     "output_type": "execute_result"
    }
   ],
   "source": [
    "# GeoSeries Centroid\n",
    "center = school_districts.geometry.to_crs(epsg = 3857).centroid\n",
    "center"
   ]
  },
  {
   "cell_type": "code",
   "execution_count": 30,
   "metadata": {},
   "outputs": [
    {
     "data": {
      "text/plain": [
       "15584.468101663197"
      ]
     },
     "execution_count": 30,
     "metadata": {},
     "output_type": "execute_result"
    }
   ],
   "source": [
    "# GeoSeries Distance\n",
    "\n",
    "## find the distance between the centers of the first two districts\n",
    "\n",
    "ctr1 = center[0] # center of first district\n",
    "ctr2 = center[1] # center of second district\n",
    "\n",
    "ctr1.distance(ctr2)"
   ]
  },
  {
   "cell_type": "code",
   "execution_count": 31,
   "metadata": {},
   "outputs": [],
   "source": [
    "#### Use Folium package to show the map of USC\n",
    "\n",
    "import folium\n",
    "import webbrowser\n",
    "\n",
    "filepath = \"usc_map.html\""
   ]
  },
  {
   "cell_type": "code",
   "execution_count": 32,
   "metadata": {},
   "outputs": [
    {
     "data": {
      "text/plain": [
       "True"
      ]
     },
     "execution_count": 32,
     "metadata": {},
     "output_type": "execute_result"
    }
   ],
   "source": [
    "m = folium.Map(location = [34.0186834, -118.2860637], zoom_start = 16)\n",
    "m.save(filepath)\n",
    "webbrowser.open('file://'+ filepath)"
   ]
  },
  {
   "cell_type": "code",
   "execution_count": 38,
   "metadata": {},
   "outputs": [
    {
     "data": {
      "text/plain": [
       "True"
      ]
     },
     "execution_count": 38,
     "metadata": {},
     "output_type": "execute_result"
    }
   ],
   "source": [
    "## add markers\n",
    "m = folium.Map(location = [34.0186834, -118.2860637], zoom_start = 16)\n",
    "folium.Marker([34.0186834, -118.2860637],\n",
    "              popup = \"<b>USC Marshall</b>\").add_to(m)\n",
    "m.save(filepath)\n",
    "webbrowser.open('file://'+ filepath)"
   ]
  },
  {
   "cell_type": "code",
   "execution_count": 39,
   "metadata": {},
   "outputs": [
    {
     "data": {
      "text/plain": [
       "True"
      ]
     },
     "execution_count": 39,
     "metadata": {},
     "output_type": "execute_result"
    }
   ],
   "source": [
    "## show the logo of USC Marshall as a marker\n",
    "\n",
    "marshallLogo = \"uscmarshall.jpeg\"\n",
    "logoIcon = folium.features.CustomIcon(marshallLogo, icon_size = (50, 50))\n",
    "\n",
    "folium.Marker([34.0186834, -118.2860637],\n",
    "              popup = \"<b>USC Marshall</b>\",\n",
    "              icon = logoIcon).add_to(m)\n",
    "\n",
    "m.save(filepath)\n",
    "webbrowser.open('file://'+ filepath)"
   ]
  },
  {
   "cell_type": "code",
   "execution_count": 41,
   "metadata": {},
   "outputs": [
    {
     "data": {
      "text/plain": [
       "True"
      ]
     },
     "execution_count": 41,
     "metadata": {},
     "output_type": "execute_result"
    }
   ],
   "source": [
    "## show a transparent circle above USC\n",
    "\n",
    "marshallLogo = \"uscmarshall.jpeg\"\n",
    "logoIcon = folium.features.CustomIcon(marshallLogo, icon_size = (50, 50))\n",
    "\n",
    "folium.Marker([34.0186834, -118.2860637],\n",
    "              popup = \"<b>USC Marshall</b>\",\n",
    "              icon = logoIcon).add_to(m)\n",
    "\n",
    "folium.CircleMarker([34.0186834, -118.2860637],\n",
    "                    radius = 150,\n",
    "                    popup = \"University of Southern California\",\n",
    "                    color = \"#428bca\",\n",
    "                    fill = True,\n",
    "                    fill_color = \"#428bca\").add_to(m)\n",
    "\n",
    "m.save(filepath)\n",
    "webbrowser.open('file://'+ filepath)"
   ]
  },
  {
   "cell_type": "code",
   "execution_count": null,
   "metadata": {},
   "outputs": [],
   "source": []
  }
 ],
 "metadata": {
  "kernelspec": {
   "display_name": "Python 3",
   "language": "python",
   "name": "python3"
  },
  "language_info": {
   "codemirror_mode": {
    "name": "ipython",
    "version": 3
   },
   "file_extension": ".py",
   "mimetype": "text/x-python",
   "name": "python",
   "nbconvert_exporter": "python",
   "pygments_lexer": "ipython3",
   "version": "3.7.4"
  }
 },
 "nbformat": 4,
 "nbformat_minor": 2
}
